{
 "cells": [
  {
   "cell_type": "code",
   "execution_count": null,
   "metadata": {},
   "outputs": [
    {
     "name": "stdout",
     "output_type": "stream",
     "text": [
      "['MPRAGE', 'Accelerated Sagittal MPRAGE', 'MPRAGE GRAPPA2', 'MPRAGE SENSE2', 'Accelerated Sagittal MPRAGE (MSV21)', 'Accelerated Sagittal MPRAGE_ND', 'Sagittal 3D Accelerated MPRAGE']\n",
      "                                     Count  Percentage  Unique Subjects  \\\n",
      "Description                                                               \n",
      "MPRAGE                                1265   29.425448              328   \n",
      "Accelerated Sagittal MPRAGE            836   19.446383              440   \n",
      "MPRAGE GRAPPA2                         690   16.050244              180   \n",
      "MPRAGE SENSE2                          343    7.978600               95   \n",
      "Accelerated Sagittal MPRAGE (MSV21)    237    5.512910              233   \n",
      "Accelerated Sagittal MPRAGE_ND         156    3.628751               89   \n",
      "Sagittal 3D Accelerated MPRAGE         153    3.558967               83   \n",
      "\n",
      "                                     Scan to Unique Subject Ratio  \n",
      "Description                                                        \n",
      "MPRAGE                                                   3.856707  \n",
      "Accelerated Sagittal MPRAGE                              1.900000  \n",
      "MPRAGE GRAPPA2                                           3.833333  \n",
      "MPRAGE SENSE2                                            3.610526  \n",
      "Accelerated Sagittal MPRAGE (MSV21)                      1.017167  \n",
      "Accelerated Sagittal MPRAGE_ND                           1.752809  \n",
      "Sagittal 3D Accelerated MPRAGE                           1.843373  \n"
     ]
    }
   ],
   "source": [
    "import pandas as pd\n",
    "\n",
    "# Read the CSV file\n",
    "df = pd.read_csv(\"idaSearch_3_12_2025-2.csv\")\n",
    "\n",
    "# Filter out rows where the \"Description\" column starts with \"B1\" (case-insensitive)\n",
    "# or contains \"repeat\" (case-insensitive)\n",
    "df_filtered = df[\n",
    "    ~df[\"Description\"].str.contains(\"(?i)b1\")\n",
    "    & ~df[\"Description\"].str.contains(\"(?i)repeat\")\n",
    "    # & ~df[\"Description\"].str.contains(\"(?i)ir\")\n",
    "]\n",
    "\n",
    "# Get the counts and percentage of each unique value in the \"Description\" column from the filtered DataFrame\n",
    "counts = df_filtered[\"Description\"].value_counts()\n",
    "percentages = df_filtered[\"Description\"].value_counts(normalize=True) * 100\n",
    "\n",
    "# Combine counts and percentages into a single DataFrame\n",
    "result = pd.DataFrame({\"Count\": counts, \"Percentage\": percentages})\n",
    "\n",
    "# Also compute the number of unique subjects for each description\n",
    "unique_subjects = df_filtered.groupby(\"Description\")[\"Subject ID\"].nunique()\n",
    "\n",
    "# Add the unique subjects as a new column to the result DataFrame\n",
    "result[\"Unique Subjects\"] = unique_subjects\n",
    "result[\"Scan to Unique Subject Ratio\"] = result[\"Count\"] / result[\"Unique Subjects\"]\n",
    "\n",
    "# Filter the results to include only entries with a percentage greater than 1%\n",
    "result = result[result[\"Unique Subjects\"] > 50]\n",
    "\n",
    "print(result.index.tolist())\n",
    "\n",
    "# Display the result\n",
    "print(result)"
   ]
  }
 ],
 "metadata": {
  "kernelspec": {
   "display_name": "myenv",
   "language": "python",
   "name": "python3"
  },
  "language_info": {
   "codemirror_mode": {
    "name": "ipython",
    "version": 3
   },
   "file_extension": ".py",
   "mimetype": "text/x-python",
   "name": "python",
   "nbconvert_exporter": "python",
   "pygments_lexer": "ipython3",
   "version": "3.10.16"
  }
 },
 "nbformat": 4,
 "nbformat_minor": 2
}
